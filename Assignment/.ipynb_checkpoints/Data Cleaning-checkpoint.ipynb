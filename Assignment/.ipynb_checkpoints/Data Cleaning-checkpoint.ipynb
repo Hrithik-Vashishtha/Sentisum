{
 "cells": [
  {
   "cell_type": "code",
   "execution_count": 1,
   "id": "83a7796f",
   "metadata": {},
   "outputs": [
    {
     "name": "stderr",
     "output_type": "stream",
     "text": [
      "C:\\Users\\Hrithik\\AppData\\Local\\Temp\\ipykernel_13092\\3980900022.py:8: DeprecationWarning: The 'http_auth' parameter is deprecated. Use 'basic_auth' or 'bearer_auth' parameters instead\n",
      "  es = Elasticsearch(\"http://localhost:9200\", http_auth=(\"elastic\", \"OsboUfs5GKauVaoV5=dQ\"))\n"
     ]
    }
   ],
   "source": [
    "from elasticsearch import Elasticsearch, helpers\n",
    "import json\n",
    "import pandas as pd\n",
    "\n",
    "\n",
    "from elasticsearch import Elasticsearch\n",
    "\n",
    "es = Elasticsearch(\"http://localhost:9200\", http_auth=(\"elastic\", \"OsboUfs5GKauVaoV5=dQ\"))"
   ]
  },
  {
   "cell_type": "code",
   "execution_count": 2,
   "id": "75588fcb",
   "metadata": {},
   "outputs": [],
   "source": [
    "df = pd.read_csv('salary_survey-1.csv')"
   ]
  },
  {
   "cell_type": "code",
   "execution_count": 3,
   "id": "30ecc161",
   "metadata": {},
   "outputs": [
    {
     "data": {
      "text/plain": [
       "Timestamp                                                                       0\n",
       "How old are you?                                                                0\n",
       "What industry do you work in?                                                 970\n",
       "Job title                                                                       2\n",
       "What is your annual salary?                                                     3\n",
       "Please indicate the currency                                                    0\n",
       "Where are you located? (City/state/country)                                  1775\n",
       "How many years of post-college professional work experience do you have?        0\n",
       "If your job title needs additional context, please clarify here:            26709\n",
       "If \"Other,\" please indicate the currency here:                              34090\n",
       "dtype: int64"
      ]
     },
     "execution_count": 3,
     "metadata": {},
     "output_type": "execute_result"
    }
   ],
   "source": [
    "df.isna().sum()"
   ]
  },
  {
   "cell_type": "code",
   "execution_count": 4,
   "id": "b8f4bea2",
   "metadata": {},
   "outputs": [],
   "source": [
    "df = df.dropna()"
   ]
  },
  {
   "cell_type": "code",
   "execution_count": 5,
   "id": "8f57309a",
   "metadata": {},
   "outputs": [
    {
     "data": {
      "text/plain": [
       "Timestamp                                                                   0\n",
       "How old are you?                                                            0\n",
       "What industry do you work in?                                               0\n",
       "Job title                                                                   0\n",
       "What is your annual salary?                                                 0\n",
       "Please indicate the currency                                                0\n",
       "Where are you located? (City/state/country)                                 0\n",
       "How many years of post-college professional work experience do you have?    0\n",
       "If your job title needs additional context, please clarify here:            0\n",
       "If \"Other,\" please indicate the currency here:                              0\n",
       "dtype: int64"
      ]
     },
     "execution_count": 5,
     "metadata": {},
     "output_type": "execute_result"
    }
   ],
   "source": [
    "df.isna().sum()"
   ]
  },
  {
   "cell_type": "code",
   "execution_count": 6,
   "id": "80019286",
   "metadata": {},
   "outputs": [],
   "source": [
    "import re\n",
    "def clean_salary(salary):\n",
    "    # Remove non-numeric characters and commas\n",
    "    salary = re.sub(r'[^\\d]', '', str(salary))\n",
    "    try:\n",
    "        return float(salary)\n",
    "    except ValueError:\n",
    "        return None\n",
    "df['What is your annual salary?'] = df['What is your annual salary?'].apply(clean_salary)"
   ]
  },
  {
   "cell_type": "code",
   "execution_count": 7,
   "id": "1d9d1ad8",
   "metadata": {},
   "outputs": [],
   "source": [
    "df = df.dropna()"
   ]
  },
  {
   "cell_type": "code",
   "execution_count": 8,
   "id": "497dcf48",
   "metadata": {},
   "outputs": [],
   "source": [
    "df2 = df.to_dict('records')"
   ]
  },
  {
   "cell_type": "code",
   "execution_count": 9,
   "id": "5fcef0c0",
   "metadata": {},
   "outputs": [],
   "source": [
    "def generator(df2):\n",
    "    for c, line in enumerate(df2):\n",
    "        yield {\n",
    "            '_index': 'myelkfirst',\n",
    "            '_id': line.get('show_id', None),\n",
    "            '_source': {\n",
    "                \"Timestamp\": line.get(\"Timestamp\", \"\"),\n",
    "                \"Industry\": line.get(\"What industry do you work in\", \"\"),\n",
    "                \"JobTitle\": line.get(\"Job title\", \"\"),\n",
    "                \"Salary\": line.get(\"What is your annual salary?\", \"\"),\n",
    "                \"Currency\": line.get(\"Please indicate the currency\", \"\"),\n",
    "                \"Location\": line.get(\"Where are you located? (City/state/country)\", \"\"),\n",
    "                \"YearsOfExperience\": line.get(\"How many years of post-college professional work experience do you have?\", \"\"),\n",
    "                \"AdditionalContext\": line.get(\"If your job title needs additional context, please clarify here:\", \"\"),\n",
    "                \"Other\": line.get('If \"Other,\" please indicate the currency here', '')\n",
    "            }\n",
    "        }\n",
    "\n",
    "mycustom = generator(df2)\n"
   ]
  },
  {
   "cell_type": "code",
   "execution_count": 10,
   "id": "8cd8370d",
   "metadata": {},
   "outputs": [
    {
     "data": {
      "text/plain": [
       "{'_index': 'myelkfirst',\n",
       " '_id': None,\n",
       " '_source': {'Timestamp': '4/24/2019 11:46:04',\n",
       "  'Industry': '',\n",
       "  'JobTitle': 'Human Resources Generalist/Payroll Admin',\n",
       "  'Salary': 6090.0,\n",
       "  'Currency': 'USD',\n",
       "  'Location': 'Tampa, FL',\n",
       "  'YearsOfExperience': '5-7 years',\n",
       "  'AdditionalContext': 'Additional hats as required for safety, ministry, wellness, etc.',\n",
       "  'Other': ''}}"
      ]
     },
     "execution_count": 10,
     "metadata": {},
     "output_type": "execute_result"
    }
   ],
   "source": [
    "next(mycustom)"
   ]
  },
  {
   "cell_type": "code",
   "execution_count": 11,
   "id": "e658854f",
   "metadata": {},
   "outputs": [],
   "source": [
    "Settings = {\n",
    "    'settings': {\n",
    "        \"number_of_shards\": 1,\n",
    "        \"number_of_replicas\": 0\n",
    "    },\n",
    "    \"mappings\": {\n",
    "        \"properties\": {\n",
    "            \"Timestamp\": { \"type\": \"text\" },\n",
    "            \"Industry\": { \"type\": \"keyword\" },\n",
    "            \"JobTitle\": { \"type\": \"text\" },\n",
    "            \"Salary\": { \"type\": \"float\" },\n",
    "            \"Currency\": { \"type\": \"text\" },\n",
    "            \"Location\": { \"type\": \"keyword\" },\n",
    "            \"YearsOfExperience\": { \"type\": \"text\" },\n",
    "            \"AdditionalContext\": { \"type\": \"text\" },\n",
    "            \"Other\": { \"type\": \"text\" }\n",
    "        }\n",
    "    }\n",
    "}\n"
   ]
  },
  {
   "cell_type": "code",
   "execution_count": 12,
   "id": "60fb2dbf",
   "metadata": {},
   "outputs": [
    {
     "name": "stderr",
     "output_type": "stream",
     "text": [
      "C:\\Users\\Hrithik\\AppData\\Local\\Temp\\ipykernel_13092\\2458035385.py:2: DeprecationWarning: Passing transport options in the API method is deprecated. Use 'Elasticsearch.options()' instead.\n",
      "  my = es.indices.create(index='myelkfirst', ignore=[400,404],body=Settings)\n"
     ]
    }
   ],
   "source": [
    "IndexName = ''\n",
    "my = es.indices.create(index='myelkfirst', ignore=[400,404],body=Settings)"
   ]
  },
  {
   "cell_type": "code",
   "execution_count": 13,
   "id": "c0c5a98d",
   "metadata": {},
   "outputs": [
    {
     "data": {
      "text/plain": [
       "ObjectApiResponse({'acknowledged': True, 'shards_acknowledged': True, 'index': 'myelkfirst'})"
      ]
     },
     "execution_count": 13,
     "metadata": {},
     "output_type": "execute_result"
    }
   ],
   "source": [
    "my"
   ]
  },
  {
   "cell_type": "code",
   "execution_count": 14,
   "id": "ca6fb4ad",
   "metadata": {},
   "outputs": [
    {
     "data": {
      "text/plain": [
       "96"
      ]
     },
     "execution_count": 14,
     "metadata": {},
     "output_type": "execute_result"
    }
   ],
   "source": [
    "len(df2)"
   ]
  },
  {
   "cell_type": "code",
   "execution_count": 15,
   "id": "0aa7731f",
   "metadata": {},
   "outputs": [
    {
     "name": "stdout",
     "output_type": "stream",
     "text": [
      ".kibana_task_manager_8.10.4_001\n",
      "myelkfirst\n",
      "data\n",
      ".slo-observability.sli-v2\n",
      ".internal.alerts-observability.slo.alerts-default-000001\n",
      ".kibana_security_session_1\n",
      ".internal.alerts-observability.apm.alerts-default-000001\n",
      ".internal.alerts-observability.metrics.alerts-default-000001\n",
      ".slo-observability.summary-v2.temp\n",
      ".apm-custom-link\n",
      ".kibana_ingest_8.10.4_001\n",
      ".kibana_8.10.4_001\n",
      ".internal.alerts-security.alerts-default-000001\n",
      ".security-profile-8\n",
      "compensation_data_combined\n",
      ".transform-notifications-000002\n",
      ".internal.alerts-stack.alerts-default-000001\n",
      "my-index-000001\n",
      ".internal.alerts-observability.logs.alerts-default-000001\n",
      ".internal.alerts-observability.uptime.alerts-default-000001\n",
      ".transform-internal-007\n",
      ".apm-agent-configuration\n",
      ".apm-source-map\n",
      ".kibana_security_solution_8.10.4_001\n",
      ".slo-observability.summary-v2\n",
      ".security-7\n",
      ".kibana_analytics_8.10.4_001\n",
      ".kibana-observability-ai-assistant-conversations-000001\n",
      "books\n",
      "name\n",
      ".kibana-observability-ai-assistant-kb-000001\n",
      ".async-search\n",
      ".kibana_alerting_cases_8.10.4_001\n",
      "customer\n"
     ]
    },
    {
     "name": "stderr",
     "output_type": "stream",
     "text": [
      "C:\\Users\\Hrithik\\AppData\\Local\\Temp\\ipykernel_13092\\2804286888.py:1: ElasticsearchWarning: this request accesses system indices: [.kibana_task_manager_8.10.4_001, .kibana_security_session_1, .apm-custom-link, .kibana_ingest_8.10.4_001, .kibana_8.10.4_001, .security-profile-8, .transform-internal-007, .apm-agent-configuration, .kibana_security_solution_8.10.4_001, .security-7, .kibana_analytics_8.10.4_001, .async-search, .kibana_alerting_cases_8.10.4_001], but in a future major version, direct access to system indices will be prevented by default\n",
      "  res = es.indices.get_alias(index=\"*\")\n"
     ]
    }
   ],
   "source": [
    "res = es.indices.get_alias(index=\"*\")\n",
    "for Name in res:\n",
    "    print(Name)"
   ]
  },
  {
   "cell_type": "code",
   "execution_count": 16,
   "id": "1eb93bde",
   "metadata": {},
   "outputs": [
    {
     "name": "stdout",
     "output_type": "stream",
     "text": [
      "Working\n",
      "Response:  (96, [])\n"
     ]
    }
   ],
   "source": [
    "try:\n",
    "    res = helpers.bulk(es, generator(df2))\n",
    "    print(\"Working\")\n",
    "    print(\"Response: \",res)\n",
    "except Exception as e:\n",
    "    print(e)\n",
    "    pass"
   ]
  },
  {
   "cell_type": "code",
   "execution_count": 17,
   "id": "1ffa9f9a",
   "metadata": {},
   "outputs": [],
   "source": [
    "# import re\n",
    "\n",
    "# def clean_salary(salary):\n",
    "#     # Remove non-numeric characters and commas\n",
    "#     salary = re.sub(r'[^\\d]', '', salary)\n",
    "#     return float(salary)\n",
    "\n",
    "# # Example usage:\n",
    "# salary = \"$72,000 Per year base + $8k year-end bonus\"\n",
    "# cleaned_salary = clean_salary(salary)\n",
    "# print(cleaned_salary)\n"
   ]
  },
  {
   "cell_type": "code",
   "execution_count": null,
   "id": "62c30a4c",
   "metadata": {},
   "outputs": [],
   "source": []
  }
 ],
 "metadata": {
  "kernelspec": {
   "display_name": "Python 3 (ipykernel)",
   "language": "python",
   "name": "python3"
  },
  "language_info": {
   "codemirror_mode": {
    "name": "ipython",
    "version": 3
   },
   "file_extension": ".py",
   "mimetype": "text/x-python",
   "name": "python",
   "nbconvert_exporter": "python",
   "pygments_lexer": "ipython3",
   "version": "3.8.18"
  }
 },
 "nbformat": 4,
 "nbformat_minor": 5
}
